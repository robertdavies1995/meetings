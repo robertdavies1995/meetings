{
 "cells": [
  {
   "cell_type": "markdown",
   "metadata": {},
   "source": [
    "This code scrapes a reddit comment thread, for comments and initial sub comments. from these comments it creates a dictionary including the words used and how often they are used excluding stopwords which is then transformed into a wordcloud"
   ]
  },
  {
   "cell_type": "code",
   "execution_count": 1,
   "metadata": {
    "collapsed": true
   },
   "outputs": [],
   "source": [
    "import urllib.request\n",
    "import json\n",
    "import pymongo\n",
    "from pprint import pprint\n",
    "from vaderSentiment.vaderSentiment import SentimentIntensityAnalyzer\n",
    "import time\n",
    "import requests\n",
    "from nltk.corpus import stopwords"
   ]
  },
  {
   "cell_type": "code",
   "execution_count": 2,
   "metadata": {
    "collapsed": true
   },
   "outputs": [],
   "source": [
    "url = r'https://www.reddit.com/r/london/comments/71q10h/uber_loses_london_operating_licence_after_ruling/.json?limit=500'\n",
    "## The url that I will scrape"
   ]
  },
  {
   "cell_type": "code",
   "execution_count": 3,
   "metadata": {},
   "outputs": [],
   "source": [
    "comments = []\n",
    "replies =[]  ## creates 2 empty lists\n",
    "with urllib.request.urlopen(url) as uber:\n",
    "    content = uber.read()\n",
    "contentd = json.loads(content)  ##read the json and turn it into a dictionary\n",
    "for i in contentd[1]['data']['children']:  ## for each post \n",
    "    try:\n",
    "        comments.append(i['data']['body']) ## add the text of the comment to the list comments\n",
    "        \n",
    "        if i['data']['replies'] !=\"\": ## if there are replies to this comment\n",
    "            comments.append(i['data']['replies']['data']['children'][0]['data']['body'])  ## add the body of the reply\n",
    "    except: \n",
    "        pass ## if there is a problem with the body skip and continue\n",
    "    "
   ]
  },
  {
   "cell_type": "code",
   "execution_count": 4,
   "metadata": {
    "collapsed": true
   },
   "outputs": [],
   "source": [
    "clean = []  ## create an empty list\n",
    "for i in comments: ## for each line in comments add it to the list clean and make adjustments to text\n",
    "    clean.append(i.lower().strip().replace('\\n','').replace('-','').replace('https:','').replace('&','and').replace('\"','') \\\n",
    "           .replace('?','').replace('!','').replace(',','').replace('.','').replace(':','').replace(';','').replace(')','') \\\n",
    "           .replace('(','').replace('[','').replace(']','').replace('/',' ').replace('\"it\\'s\"','it\\'s').replace('cabs','cab'))"
   ]
  },
  {
   "cell_type": "code",
   "execution_count": 5,
   "metadata": {},
   "outputs": [
    {
     "data": {
      "text/plain": [
       "[\"london is uber's only profitable city in europe this is a big deal for them\",\n",
       " 'how what on earth are their overheads',\n",
       " \"ok so afaik this doesn't mean they're gonna be gone by midnight or some shitthey have 21 days to appeal  during which time they can continue to operate  and i *think* that after that they can keep operating until the entire appeal has been resolved  which could be *ages*and to be honest  they'll presumably win the appeal while giving up some major concessions reregulation this seems more like tfl demonstrating it means business especially in the wake of the dodgy sexual assault stuff\",\n",
       " 'yup uber has been described by the mayor of calgary as being the worst people he has had to negotiate with the company pulls a fine line between legal and informal economy they will be allowed to opperate however i imagine the city uses this as a bargaining chip with the proper cab industry too',\n",
       " 'i hope at the very least uber can demonstrate new policies for dealing with the demands of tfl so they can continue to operate and obtain a new licence hoping it also drives some change in the taxi industry as a whole which seems desperate to resist change',\n",
       " \"i think this is whats going to happen they'll appeal within the next 21 days and show that they've changed their reporting methods  pretty much a non event\",\n",
       " \"i'm not getting back into black cab that ship sailed a long time ago\",\n",
       " 'black cab are a last resort for me as well they are generally cunts',\n",
       " 'wow huge move and big surprise to me at leastuber can still operate during the appeals process which i guess could take months years',\n",
       " 'statement says 21 days not sure if that is to start the appeal process or complete',\n",
       " \"uber is amazing as a young girl just moved to this city it makes me feel 100% safer having the drivers name and registration plate on my phone and having the journey tracked i've jumped into a black cab before and couldn't see a medallion number when i asked the driver what it was he went mental and kicked me out  i'd clearly had a narrow escapeit's great for emergencies if you have no cash or cards on you i've left my bag in an uber once and it just took a really short text to the driver to get it back uber is a lifesaver for young girls or anyone of course i'm just saying from my perspective it makes me feel safer\",\n",
       " \"since the other two replies that were left were horrible i thought i'd leave a simple comment saying you have my sympathy\",\n",
       " \"i guess we're back to black cab fucking us over and only accepting cash and not going outside zone 1\",\n",
       " \"uber and black cab were never rivals in my eyes at leastif there is no uber i'd rather walk home for an hour at 1am instead of paying obscene taxi fares\",\n",
       " 'uber andgt black cab',\n",
       " 'why on earth are you being down voted for thischeaper more accessible tracked on an app more comfortable etc etc',\n",
       " \"worth noting that it's not because of money it's because of uber's lack of compliance with tfl's policies around reporting criminal offences data reporting medical certificates etc   twittercom julesmattsson status 911170360447574016uber has nobody to blame but itself\",\n",
       " \"i use uber all the time it's revolutionised how i and many other people are able to travel black cab are expensive and outdated mini cab are horrible yet i don't agree with many of uber's policies i don't actually want to give my money to a company that won't comply with basic standards of reporting criminal offences i don't like the choice between an amazing service with a shitty company culture and ethics vs breaking the bank to make a short journey if the result of this is that uber gets its licence back but is forced into cleaning up it's act then i'll be delighted\",\n",
       " \"look if uber has been shady with its reporting or has been doing things it shouldn't legally be doing then by all means let's try to fix that but i think the way the rest of the taxi industry is handling this is childish greedy and very anticonsumeri have a very serious visual impairment that basically renders me blind at night time its something similar to retinosa pigmentosa and it makes travelling on buses and the tube very difficult i basically see through a very thin tunnel and that makes navigating through crowds extremely difficult and dangerous for others around me i carry a white cane but it sometimes just isn't enough uber has been my life saver i have no affiliation with them at all but they've allowed me to live my life as normally as possible it's allowed me to travel to my lectures on dark and rainy afternoons to see friends when everyone is going out to make my regular hospital appointments and so onwhat sets it apart from other services is that i can contact my driver before hand and let them know of my condition absolutely every driver has been able to find my exact location and help me into and out of the car other taxi services just won't come to exactly where i'm standing and it becomes my task to spot them and wave them down something very difficult especially at nighti can't describe just how much uber has allowed me to live my life to a fuller extent i get very anxious when trying to get from place to place on my own and that app has basically always given me peace of mind that someone will find me and take me home when i'm in needi know i might be a minority in this case but i wouldn't have met the people i know today or lived the life i'm currently living without them in fact i had a life changing operation last year part of moorfields optirpe65 trials and i had to be there early in the morning i took my entire family in an uberxl and despite all the stress and emotion that day i was thankful to have gotten everyone there to support me and be by my side on time and without the frustration of other modes of transport\",\n",
       " 'recommend you get onto dialaride via tfl tailor made for people with serious impairments such as yourself',\n",
       " \"here's  pbstwimgcom media dkueri0w0aauk8ljpglarge the statement from tfl\",\n",
       " 'so all the other mini cab firms in london will also be losing their licenses as well because it strikes me that by every possible metric uber is safer than a minicab',\n",
       " \"sadiq khan sucked up to the black cab lobby during his election campaignfor someone who lives south of the river if uber is permanently banned i'm fucked\",\n",
       " 'sadiq khan was legally not allowed to intervene on this issue which was handled by tfl regulators',\n",
       " \"i will not give a penny to the black cab drivers after the stuff i've seen  them say on twitter cunts\",\n",
       " 'do you understand that black cab are not officially represented by a handful of people on twitter remember charlie  uploadwikimediaorg wikipedia en thumb e e1 charlie_slater2jpg 200pxcharlie_slater2jpg from eastenders was he a cunt',\n",
       " 'what that is such bad news the cabbies needed competition and it was super convenient for so many londoners  essentially a form of ride sharing and reduced the numbers of cars in london a shame',\n",
       " \"it's not like i'm suddenly going to start taking black cab anywhere because of this either uber was the perfect medium to fill the opportunity cost lost by taking public transport\",\n",
       " \"so what's a similar replacement i don't want to use black cab or find some shitty min cab place only one i can think of that had a good app is addison lee anything else\",\n",
       " 'as a cyclist i like that their vehicles are branded  because as soon as you see one you know they are going to drive like an absolute ballbag',\n",
       " 'so they need to appeal and demonstrate that they will do better reporting crimes complying with medical certificates etc and opening up their data to tfl or are they just fucked',\n",
       " 'yep in other words all of the basic things that we should expect from any taxi company operating in london and all things they should have been doing from the start',\n",
       " \"i know this subreddit has a love for uber but consider the following uber have an absolutely terrible corporate culture with numerous abuse and sexism allegations the offer absolutely no employment rights to their thousands of drivers around the city they pay very little taxes in the uk despite doing a huge amount of business here they have failed to report abuse by drivers endangering the safety of passengersi know that uber have innovated in the market and have provided a good service and that we all hate black cab however this doesn't mean that we should accept the above behaviour hopefully a new ridesharing firm can launch which acts responsibly and doesn't abuse its staff and take advantage of customers\",\n",
       " \"a lot of the above goes for the black cab trade too they aren't exactly upheld as a shining example of not being sexist racist etc and it's well known by hmrc that they don't collect all taxes owing on cash fares from cab black cab drivers are selfemployed too  so again no employment rights there and we all know there are plenty of cases of black cab drivers abusing passengers in an industry that is this bad uber are not much different from anyone elseit really shines a light on the forhire business as a whole tfl need to take some of uber's technology and apply it across the industry all drivers should be tracked passengers should be able to feedback on all drivers and there should be video in every vehicle and of course everyone should be paying the same taxes too\",\n",
       " 'taxi for uber',\n",
       " 'thread won',\n",
       " 'drunken night buses all the way ',\n",
       " 'instead of struggling and appealing the decision they should fix their problems and apply for a license again when they are ready',\n",
       " 'the black cab mafia throwing their support behind sadiq has paid off then',\n",
       " 'jump in my addison lee',\n",
       " \"yeah i couldn't get an uber it might've been there soonerit might've been way cheaperbut sadiq don't like it muchlondon got blocked off of uber girlit could've been way sooner girl\",\n",
       " \"what's to stop them from clearing up their act and reapplying for a licence\",\n",
       " 'nothing in fact the tfl statement is actively encouraging that',\n",
       " \"so tfl's decision is based on uber demonstrating a lack of corporate responsibility in relation to a number of issues which have potential public safety and security implications these issues include the way they report criminal offences medical certification dbs checks and the use of greyballi'd be interested in seeing more detail in terms of what specific practices tfl are concerned about and why can anyone point me in the direction of some further reading so i can understand more about this\",\n",
       " '  tflgovuk infofor media pressreleases 2017 september licensingdecisiononuberlondonlimited',\n",
       " \"that's a shame every experience i've had with black cab drivers has been overwhelmingly negative will never use them again\",\n",
       " \"just to offer a different perspective i'll miss uber as a cheaper option for personal travel personally but i frequently work late and my employer pays for a taxi home which is sometimes an uber and sometimes a black cab depending on availability i used to go from farringdon to west kensington and if you put that into a gps it will take you up to king's cross past euston and along the a40 coming in at the top of kensington   notting hill the problem with that is that the road up to king's cross and generally to the a40 is absolutely rammed at most points so unless you get lucky with the traffic it's actually about 10 minutes quicker in the evening to go along the strand through trafalgar square and up the mall into kensington black cab drivers always knew that and so i liked getting them as the fact they need to have local knowledge meant i got home quicker that said i've had some right odious black cab drivers and some really nice ones whereas most uber drivers i've met have always ranged from comfortably quiet to really nice presumably as they depend on having a good rating\",\n",
       " \"complete madness i can't believe that cabbies still have so much power in london\",\n",
       " \"what power tfl has clearly identified issues with uber's model this is nothing to do with cabbie power\",\n",
       " 'good what with brexit we need to be taking proper british cab run by british men with british hair and british guts british brainsand british feetbritishhands',\n",
       " 'brace yourself everyone the union fanboys are storming this thread with a downvote brigade',\n",
       " \"it's interesting that this thread is almost the polar opposite of the other news thread on here today\",\n",
       " \"all other points aside it's hilarious and disgusting to see so many people defend to the death a massive corporation i guess worker's rights don't matter when you can get a cheap taxi home from that fabulous party\",\n",
       " \"to be honest i think people have tried uber and found it a fairly good service at good valueblack cab on the other hand have probably let us all down i remember before uber waiting in a long queue at a taxi rank outside charing cross at 2am one saturday morning  and black cab after black cab would drop somebody off outside the rank then drive off empty  refusing to pick anybody up the only way home was the night bus literallyadded to which black cab are notoriously expensive but that's not the worst of itblack cab will block roads  wwwtheguardiancom technology 2016 feb 10 blackcabdriversuberprotestlondontrafficstandstill like vile black lives matter protesters  wwwtheguardiancom uknews 2016 aug 05 blacklivesmatterprotestsparksheathrowtrafficchaos because they think they are more important than the commuting public so they are incredibly selfish and don't care who they hurtand black cab have no driving skills they wander over lane markings never indicate and generally show zero actual driving *skill* so they are offensive to other motoristsnobody wants to see black cab thrive because of these selfish hateful attributes sure uber have problems but at least they offer a competitive service\",\n",
       " 'for now',\n",
       " \"hopefully it's a kick up the arse for uber to sort out their admin side of things and maybe just maybe the black cab will realise people aren't going to pay their ridiculous prices going forward\",\n",
       " \"what's the 'night czar' doing about it\",\n",
       " \"what's the night czar doing about literally anything\",\n",
       " 'this is the guidance for operator compliance inspections lf uber managed to mess these up they are in a worse state than we thought  tflgovuk cdn static cms documents phvoperatorinspectionspdfthey either have 50 compliance failings or they have had several warnings already',\n",
       " \"they're kinda being pricks from what i hear as long as lyft are here by the time they're gone i don't care\",\n",
       " \"good news uber are an absolutely scummy companynow is the time to replace them with one that isn't so terrible in its practices get those alternative apps installed everyone\",\n",
       " 'or the government is doing its job to force them into becoming better corporate citizens',\n",
       " \"for what it's worth there's a petition to the mayor presumably started by uber  wwwchangeorg p saveyouruberinlondonsaveyouruber\",\n",
       " 'deleted',\n",
       " 'or another less shitty rideshare app will get lots of new drivers and customers',\n",
       " 'i have lived in london for 13 years and have ever only once taken a black cab and felt like i was mugged honestly a lot of black cabbies are down right rude i take ubers constantly so this is very sad news for me looks like ill be walking a lot more now though good cardio at least haha',\n",
       " \"agreed  i've taken a lot of trips in london with black cab and with uber and i've had a lot more unpleasant rude incidents with black cab than i've ever had with uber\",\n",
       " 'fuck sake',\n",
       " \"it's telling that it's the same one or two users in this comments thread constantly defending tfl's decision on every comment tree\",\n",
       " 'organise standing protests on all roads stopping black cab from completing journeys and therefore earning money disgraceful decision',\n",
       " \"it's got nothing to do with black cab it's that uber are deemed not 'fit and proper' to hold an operators licence by tfl as stated above uber only have themselves to blame however they will appeal successfully with various new conditions on there licence  similar to fabric\",\n",
       " \"potentially inconvenient but they're a shady as shit company and this was the right thing to do until they get their act together convinced they astroturf the hell out of this subreddit too\",\n",
       " \"lmao classic 'people don't agree with me they must be shills'or you know just a lot of people like using uber\",\n",
       " \"my dad is a nonracist tax paying happy to drive south taxi driver and three days ago told me uber were going to lose their license  i argued that it would never happen guess i'm eating my hat nowmy dad has never minded uber and understands why my brother and i use it at times but he obviously got some information off of someone about all this\",\n",
       " 'deleted',\n",
       " 'deleted',\n",
       " 'boy this sub has really gone downhill some of the comments here are simply asinine and people are upvoting absolute tosh',\n",
       " 'it started to change hmmmm around 25000 subs give or take',\n",
       " \"will they operate in the next 21 days only or until appeal process is exhausted that's the big question\",\n",
       " 'i wasnt expecting this i was expecting ubers licence being granted on condition of dbs checks english language proficiency demands that the drivers become employees instead of contractors with limits on drivers hours and consent to mandatory auditing',\n",
       " 'are other services like hailo going to be okay',\n",
       " 'oh ffs',\n",
       " 'i hope lyft launches in london i have heard nothing but good things from them',\n",
       " 'can someone elaborate on a little background on how it all came to this',\n",
       " \"uber wasn't following a few rules in fairness  they should be following the rules tfl got sick of black cab complaining all the time and could see that uber isn't doing enough to keep up its legal duties it gave them an excuse to revoke their license\",\n",
       " 'didnt another ride hailing app in london get banned recently because it had no licence at all',\n",
       " 'are lyft and juno available in london',\n",
       " \"i think it's a joke that the reason for not renewing is for our safety i don't want to have to go back to taking dodgy night buses i feel less safe without uber\",\n",
       " 'glad they are banned for now i hope it gives them the kick they need to improve their business practices and raise driving standardsi am pretty tired of having to dodge uber drivers who seem to think they can stop absolutely anywhere turn around whenever they feel like it and generally drive at a very low and even dangerous standardjust last night on a short drive i encountered two uber drivers who decided to stop right next to very busy box junctions in order to pick up passengers several others were stopped in poor locations causing traffic mayhem when they blocked a bus from a narrow roadthey need to be educated on safer driving and i think all of them should have to take and pass a uk driving test as well as some additional training on navigation the rules of the road and passenger safety',\n",
       " \"boy i was scared about freshers being a shitshow at least we get another 3 weeks this is all on uber for not running their shit properly shame this had to happen but it had to happen and i'm glad tfl have put their foot down hopefully whoever takes uber's place will do it right\",\n",
       " 'khan once again showing how useless he is',\n",
       " 'disgraceful crony capitalism',\n",
       " 'or you know legitimate concerns about passenger safety']"
      ]
     },
     "execution_count": 5,
     "metadata": {},
     "output_type": "execute_result"
    }
   ],
   "source": [
    "clean "
   ]
  },
  {
   "cell_type": "code",
   "execution_count": 6,
   "metadata": {
    "collapsed": true
   },
   "outputs": [],
   "source": [
    "stop = stopwords.words('english')  ## import stopwrods from nltk.corpus"
   ]
  },
  {
   "cell_type": "code",
   "execution_count": 7,
   "metadata": {},
   "outputs": [],
   "source": [
    "stop.append('they\\'ve')\n",
    "stop.append('way')\n",
    "stop.append('well')\n",
    "stop.append('http')\n",
    "stop.append('i\\'ll')\n",
    "stop.append('weren\\'t')\n",
    "stop.append('aren\\'t')\n",
    "stop.append('andgt')\n",
    "stop.append('what\\'s')\n",
    "stop.append('i\\'d')\n",
    "stop.append('they\\'re')\n",
    "stop.append('i\\'m')\n",
    "stop.append('i\\'ve')\n",
    "stop.append('don\\'t')\n",
    "stop.append('it\\'s')"
   ]
  },
  {
   "cell_type": "code",
   "execution_count": 8,
   "metadata": {},
   "outputs": [
    {
     "data": {
      "text/plain": [
       "['i',\n",
       " 'me',\n",
       " 'my',\n",
       " 'myself',\n",
       " 'we',\n",
       " 'our',\n",
       " 'ours',\n",
       " 'ourselves',\n",
       " 'you',\n",
       " 'your',\n",
       " 'yours',\n",
       " 'yourself',\n",
       " 'yourselves',\n",
       " 'he',\n",
       " 'him',\n",
       " 'his',\n",
       " 'himself',\n",
       " 'she',\n",
       " 'her',\n",
       " 'hers',\n",
       " 'herself',\n",
       " 'it',\n",
       " 'its',\n",
       " 'itself',\n",
       " 'they',\n",
       " 'them',\n",
       " 'their',\n",
       " 'theirs',\n",
       " 'themselves',\n",
       " 'what',\n",
       " 'which',\n",
       " 'who',\n",
       " 'whom',\n",
       " 'this',\n",
       " 'that',\n",
       " 'these',\n",
       " 'those',\n",
       " 'am',\n",
       " 'is',\n",
       " 'are',\n",
       " 'was',\n",
       " 'were',\n",
       " 'be',\n",
       " 'been',\n",
       " 'being',\n",
       " 'have',\n",
       " 'has',\n",
       " 'had',\n",
       " 'having',\n",
       " 'do',\n",
       " 'does',\n",
       " 'did',\n",
       " 'doing',\n",
       " 'a',\n",
       " 'an',\n",
       " 'the',\n",
       " 'and',\n",
       " 'but',\n",
       " 'if',\n",
       " 'or',\n",
       " 'because',\n",
       " 'as',\n",
       " 'until',\n",
       " 'while',\n",
       " 'of',\n",
       " 'at',\n",
       " 'by',\n",
       " 'for',\n",
       " 'with',\n",
       " 'about',\n",
       " 'against',\n",
       " 'between',\n",
       " 'into',\n",
       " 'through',\n",
       " 'during',\n",
       " 'before',\n",
       " 'after',\n",
       " 'above',\n",
       " 'below',\n",
       " 'to',\n",
       " 'from',\n",
       " 'up',\n",
       " 'down',\n",
       " 'in',\n",
       " 'out',\n",
       " 'on',\n",
       " 'off',\n",
       " 'over',\n",
       " 'under',\n",
       " 'again',\n",
       " 'further',\n",
       " 'then',\n",
       " 'once',\n",
       " 'here',\n",
       " 'there',\n",
       " 'when',\n",
       " 'where',\n",
       " 'why',\n",
       " 'how',\n",
       " 'all',\n",
       " 'any',\n",
       " 'both',\n",
       " 'each',\n",
       " 'few',\n",
       " 'more',\n",
       " 'most',\n",
       " 'other',\n",
       " 'some',\n",
       " 'such',\n",
       " 'no',\n",
       " 'nor',\n",
       " 'not',\n",
       " 'only',\n",
       " 'own',\n",
       " 'same',\n",
       " 'so',\n",
       " 'than',\n",
       " 'too',\n",
       " 'very',\n",
       " 's',\n",
       " 't',\n",
       " 'can',\n",
       " 'will',\n",
       " 'just',\n",
       " 'don',\n",
       " 'should',\n",
       " 'now',\n",
       " 'd',\n",
       " 'll',\n",
       " 'm',\n",
       " 'o',\n",
       " 're',\n",
       " 've',\n",
       " 'y',\n",
       " 'ain',\n",
       " 'aren',\n",
       " 'couldn',\n",
       " 'didn',\n",
       " 'doesn',\n",
       " 'hadn',\n",
       " 'hasn',\n",
       " 'haven',\n",
       " 'isn',\n",
       " 'ma',\n",
       " 'mightn',\n",
       " 'mustn',\n",
       " 'needn',\n",
       " 'shan',\n",
       " 'shouldn',\n",
       " 'wasn',\n",
       " 'weren',\n",
       " 'won',\n",
       " 'wouldn',\n",
       " \"they've\",\n",
       " 'way',\n",
       " 'well',\n",
       " 'http',\n",
       " \"i'll\",\n",
       " \"weren't\",\n",
       " \"aren't\",\n",
       " 'andgt',\n",
       " \"what's\",\n",
       " \"i'd\",\n",
       " \"they're\",\n",
       " \"i'm\",\n",
       " \"i've\",\n",
       " \"don't\",\n",
       " \"it's\"]"
      ]
     },
     "execution_count": 8,
     "metadata": {},
     "output_type": "execute_result"
    }
   ],
   "source": [
    "stop"
   ]
  },
  {
   "cell_type": "code",
   "execution_count": 9,
   "metadata": {
    "collapsed": true
   },
   "outputs": [],
   "source": [
    "wordcount = {}  ## cretae dictionary called wordcount\n",
    "\n",
    "for line in clean: #for each line \n",
    "    words = line.split() #split into words\n",
    "    for word in words: # for each word in list words\n",
    "        \n",
    "        if word not in stop:  ## if the word is not in stopwords list\n",
    "            \n",
    "            wordcount[word] = wordcount.get(word, 0)+1 #add to dictionary, and add 1 to count value"
   ]
  },
  {
   "cell_type": "code",
   "execution_count": 15,
   "metadata": {
    "collapsed": true
   },
   "outputs": [],
   "source": [
    "from wordcloud import WordCloud\n",
    "import numpy as np\n",
    "from PIL import Image\n",
    "from os import path \n",
    "##imports for wordcloud"
   ]
  },
  {
   "cell_type": "code",
   "execution_count": 18,
   "metadata": {
    "collapsed": true
   },
   "outputs": [],
   "source": [
    "taxi_mask = np.array(Image.open(r'C:\\data\\uber.png'))  ## adds mask for the wordcloud of uber logo"
   ]
  },
  {
   "cell_type": "code",
   "execution_count": 19,
   "metadata": {
    "scrolled": true
   },
   "outputs": [
    {
     "data": {
      "image/png": "[encoded data removed]",
      "text/plain": [
       "<matplotlib.figure.Figure at 0x1da11a68f60>"
      ]
     },
     "metadata": {},
     "output_type": "display_data"
    },
    {
     "data": {
      "text/plain": [
       "<matplotlib.figure.Figure at 0x1da102e0160>"
      ]
     },
     "metadata": {},
     "output_type": "display_data"
    }
   ],
   "source": [
    "def white_func(word, font_size, position, orientation, random_state=None, **kwargs):\n",
    "    return \"hsl(0, 100%, 100%)\"   ## defines the colour white for words\n",
    "    \n",
    "    \n",
    "\n",
    "wordcloud = WordCloud(background_color='black', color_func=white_func, mask=taxi_mask)  ##formats the wordcloud \n",
    "wordcloud.generate_from_frequencies(wordcount) ##generates the size based on values of dictionary\n",
    "plt.imshow(wordcloud)\n",
    "plt.axis(\"off\")\n",
    "plt.figure(frameon=True)\n",
    "plt.show()\n",
    "wordcloud.to_file(\"uberclouds.png\")  ## add to file"
   ]
  }
 ],
 "metadata": {
  "kernelspec": {
   "display_name": "Python 3",
   "language": "python",
   "name": "python3"
  },
  "language_info": {
   "codemirror_mode": {
    "name": "ipython",
    "version": 3
   },
   "file_extension": ".py",
   "mimetype": "text/x-python",
   "name": "python",
   "nbconvert_exporter": "python",
   "pygments_lexer": "ipython3",
   "version": "3.6.3"
  }
 },
 "nbformat": 4,
 "nbformat_minor": 2
}
