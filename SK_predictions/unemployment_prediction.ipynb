{
 "cells": [
  {
   "cell_type": "markdown",
   "metadata": {},
   "source": [
    "This code takes existing data on unemployment rates for London and using radial based functions predicts how it will develop in the 5 years afterwards"
   ]
  },
  {
   "cell_type": "code",
   "execution_count": 13,
   "metadata": {
    "collapsed": true
   },
   "outputs": [],
   "source": [
    "import csv\n",
    "import plotly.graph_objs as go\n",
    "import numpy as np\n",
    "from sklearn.svm import SVR\n",
    "import plotly as py\n",
    "py.tools.set_credentials_file(username='RobDavies1995', api_key='TFbYdNvOJocRJYixcCv8')\n",
    "import plotly.plotly as py"
   ]
  },
  {
   "cell_type": "code",
   "execution_count": 14,
   "metadata": {
    "collapsed": true
   },
   "outputs": [],
   "source": [
    "py.sign_in('RobDavies1995', 'TFbYdNvOJocRJYixcCv8')  ##plotly signin\n",
    "dates = [] \n",
    "unemployment = [] ## create empty lists for the dates and eunemployment"
   ]
  },
  {
   "cell_type": "code",
   "execution_count": 15,
   "metadata": {
    "collapsed": true
   },
   "outputs": [],
   "source": [
    "filepath = r'C:\\Uber Shared\\Uber-Cool\\Data Sources\\CleanLondonUnemploymentNew.csv' "
   ]
  },
  {
   "cell_type": "markdown",
   "metadata": {},
   "source": [
    "from csv filepath the first column includes dates, the second unemployment data. These are then appended to empty lists created above"
   ]
  },
  {
   "cell_type": "code",
   "execution_count": 16,
   "metadata": {
    "collapsed": true
   },
   "outputs": [],
   "source": [
    "def get_data(filepath):\n",
    "    with open(filepath, 'r') as csvfile:\n",
    "        csvFileReader = csv.reader(csvfile)\n",
    "        next(csvFileReader)\n",
    "        for row in csvFileReader:\n",
    "            dates.append(float(row[0]))\n",
    "            unemployment.append(float(row[1]))\n",
    "    return\n"
   ]
  },
  {
   "cell_type": "markdown",
   "metadata": {},
   "source": [
    "The following is the radial based prediction function;"
   ]
  },
  {
   "cell_type": "code",
   "execution_count": 21,
   "metadata": {},
   "outputs": [],
   "source": [
    "def predict_unemployment(dates, unemployment, x): ## define the function and the inputs neccessary\n",
    "    dates = np.array(dates)[np.newaxis] ## create numpy array from the dates list\n",
    "    dates = dates.T ## transpose this information so its an x axis\n",
    "    svr_rbf = SVR(kernel='rbf', C=1e3, gamma=0.001) \n",
    "    svr_rbf.fit(dates, unemployment) ## fits the data\n",
    "    lw = 2 ##line width\n",
    "    p1 = go.Scatter(x=dates, y=unemployment,\n",
    "                     mode='markers',\n",
    "                     marker=dict(color='black'),\n",
    "                     name='data')\n",
    "    ## the first plot is the original data - dates v unemployment \n",
    "    p2 = go.Scatter(x=dates, y=svr_rbf.predict(dates),\n",
    "                     mode='lines',\n",
    "                     line=dict(color='red', width=lw))\n",
    "    ## the second creates a best fit line\n",
    "    p3 = go.Scatter(x=futureDates, y = svr_rbf.predict(futureDates),\n",
    "                     mode='lines',\n",
    "                     line=dict(color='blue', width=lw))\n",
    "    ## the third predicts the unemployment rate for the future\n",
    "    data = [p1, p2, p3]\n",
    "    layout = go.Layout(title='Unemployment in London prediction',\n",
    "                        hovermode='closest',\n",
    "                        xaxis=dict(title='Date starting at 2011 q1'),\n",
    "                        yaxis=dict(title='Urate%')\n",
    "                        )  ## plotly layout\n",
    "    fig = go.Figure(data=data, layout=layout)\n",
    "    py.iplot(fig)  ## plot\n",
    "    return (svr_rbf.predict(futureDates))"
   ]
  },
  {
   "cell_type": "code",
   "execution_count": 22,
   "metadata": {},
   "outputs": [],
   "source": [
    "get_data(r'C:\\Uber Shared\\Uber-Cool\\Data Sources\\CleanLondonUnemploymentNew.csv')\n",
    "futureDates = []\n",
    "for i in range(10):\n",
    "    futureDates.append(i+26)  ## adds next 10 quarters to the data "
   ]
  },
  {
   "cell_type": "code",
   "execution_count": 23,
   "metadata": {},
   "outputs": [
    {
     "data": {
      "text/plain": [
       "[26, 27, 28, 29, 30, 31, 32, 33, 34, 35]"
      ]
     },
     "execution_count": 23,
     "metadata": {},
     "output_type": "execute_result"
    }
   ],
   "source": [
    "futureDates"
   ]
  },
  {
   "cell_type": "code",
   "execution_count": 24,
   "metadata": {},
   "outputs": [
    {
     "data": {
      "text/plain": [
       "array([ 5.60042715,  5.61736764,  5.65537996,  5.71153744,  5.78264156,\n",
       "        5.86530068,  5.95600916,  6.05122511,  6.14744526,  6.24127527])"
      ]
     },
     "execution_count": 24,
     "metadata": {},
     "output_type": "execute_result"
    }
   ],
   "source": [
    "futureDates = np.array(futureDates)[np.newaxis]\n",
    "futureDates = futureDates.T  ## transpose the dates list including the new data\n",
    "predict_unemployment(dates, unemployment, futureDates) ## plot "
   ]
  },
  {
   "cell_type": "code",
   "execution_count": null,
   "metadata": {
    "collapsed": true
   },
   "outputs": [],
   "source": []
  }
 ],
 "metadata": {
  "kernelspec": {
   "display_name": "Python 3",
   "language": "python",
   "name": "python3"
  },
  "language_info": {
   "codemirror_mode": {
    "name": "ipython",
    "version": 3
   },
   "file_extension": ".py",
   "mimetype": "text/x-python",
   "name": "python",
   "nbconvert_exporter": "python",
   "pygments_lexer": "ipython3",
   "version": "3.6.3"
  }
 },
 "nbformat": 4,
 "nbformat_minor": 2
}
